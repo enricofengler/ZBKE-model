{
 "cells": [
  {
   "cell_type": "code",
   "execution_count": 4,
   "metadata": {},
   "outputs": [
    {
     "name": "stdout",
     "output_type": "stream",
     "text": [
      "Populating the interactive namespace from numpy and matplotlib\n"
     ]
    }
   ],
   "source": [
    "\"\"\"\n",
    "@author: efengler\n",
    "\"\"\"\n",
    "%pylab inline\n",
    "import sys,os"
   ]
  },
  {
   "cell_type": "markdown",
   "metadata": {},
   "source": [
    "## the following cell can be used to recompile the c-extension"
   ]
  },
  {
   "cell_type": "code",
   "execution_count": 5,
   "metadata": {},
   "outputs": [
    {
     "data": {
      "text/plain": [
       "0"
      ]
     },
     "execution_count": 5,
     "metadata": {},
     "output_type": "execute_result"
    }
   ],
   "source": [
    "c = 'gcc -fPIC -shared -I/usr/include/python2.7/ -I/usr/local/lib/python2.7/dist-packages/numpy/core/include/numpy/ -lpython2.7 -O1 -march=native -mtune=native -o zbke_extension.so zbke_extension.c'\n",
    "os.system(c)\n",
    "# uncomment the upper line to recompile the c extension\n",
    "# the included path can vary with distro\n",
    "# is the extension sucessfully compiled, a 0 is returned"
   ]
  },
  {
   "cell_type": "code",
   "execution_count": 6,
   "metadata": {},
   "outputs": [],
   "source": [
    "import zbke_extension"
   ]
  },
  {
   "cell_type": "markdown",
   "metadata": {},
   "source": [
    "# The following link contrains the publication in which the zbke model was introduced\n",
    "[ZBKE-model](https://pubs.acs.org/doi/abs/10.1021/j100131a030?journalCode=jpchax)"
   ]
  },
  {
   "cell_type": "markdown",
   "metadata": {},
   "source": [
    "## Parameter"
   ]
  },
  {
   "cell_type": "code",
   "execution_count": 7,
   "metadata": {},
   "outputs": [],
   "source": [
    "discr = 190\n",
    "N     = 3\n",
    "\n",
    "# x,z component minimum and maximum\n",
    "x_0   = 1e-4\n",
    "x_E   = 1.2\n",
    "z_0   = 2e-2\n",
    "z_E   = 1.0"
   ]
  },
  {
   "cell_type": "code",
   "execution_count": 8,
   "metadata": {},
   "outputs": [
    {
     "ename": "NameError",
     "evalue": "name 'phi' is not defined",
     "output_type": "error",
     "traceback": [
      "\u001b[0;31m---------------------------------------------------------------------------\u001b[0m",
      "\u001b[0;31mNameError\u001b[0m                                 Traceback (most recent call last)",
      "\u001b[0;32m<ipython-input-8-95cb31169b64>\u001b[0m in \u001b[0;36m<module>\u001b[0;34m()\u001b[0m\n\u001b[1;32m     17\u001b[0m \u001b[0mx\u001b[0m \u001b[0;34m=\u001b[0m \u001b[0mnp\u001b[0m\u001b[0;34m.\u001b[0m\u001b[0mones\u001b[0m\u001b[0;34m(\u001b[0m\u001b[0mN\u001b[0m\u001b[0;34m)\u001b[0m\u001b[0;34m*\u001b[0m\u001b[0mx_0\u001b[0m\u001b[0;34m\u001b[0m\u001b[0m\n\u001b[1;32m     18\u001b[0m \u001b[0mz\u001b[0m \u001b[0;34m=\u001b[0m \u001b[0mnp\u001b[0m\u001b[0;34m.\u001b[0m\u001b[0mones\u001b[0m\u001b[0;34m(\u001b[0m\u001b[0mN\u001b[0m\u001b[0;34m)\u001b[0m\u001b[0;34m*\u001b[0m\u001b[0mz_0\u001b[0m\u001b[0;34m\u001b[0m\u001b[0m\n\u001b[0;32m---> 19\u001b[0;31m \u001b[0mzbke_extension\u001b[0m\u001b[0;34m.\u001b[0m\u001b[0mzbke_network\u001b[0m\u001b[0;34m(\u001b[0m\u001b[0mx\u001b[0m\u001b[0;34m,\u001b[0m\u001b[0mz\u001b[0m\u001b[0;34m,\u001b[0m\u001b[0mw_zero\u001b[0m\u001b[0;34m,\u001b[0m\u001b[0mphi\u001b[0m\u001b[0;34m,\u001b[0m\u001b[0mhet\u001b[0m\u001b[0;34m,\u001b[0m\u001b[0;36m9.\u001b[0m\u001b[0;34m)\u001b[0m \u001b[0;31m# transient\u001b[0m\u001b[0;34m\u001b[0m\u001b[0m\n\u001b[0m\u001b[1;32m     20\u001b[0m \u001b[0;32mfor\u001b[0m \u001b[0mi\u001b[0m \u001b[0;32min\u001b[0m \u001b[0mrange\u001b[0m\u001b[0;34m(\u001b[0m\u001b[0;36m9000\u001b[0m\u001b[0;34m)\u001b[0m\u001b[0;34m:\u001b[0m\u001b[0;34m\u001b[0m\u001b[0m\n\u001b[1;32m     21\u001b[0m     \u001b[0mzbke_extension\u001b[0m\u001b[0;34m.\u001b[0m\u001b[0mzbke_network\u001b[0m\u001b[0;34m(\u001b[0m\u001b[0mx\u001b[0m\u001b[0;34m,\u001b[0m\u001b[0mz\u001b[0m\u001b[0;34m,\u001b[0m\u001b[0mw_zero\u001b[0m\u001b[0;34m,\u001b[0m\u001b[0mphi\u001b[0m\u001b[0;34m,\u001b[0m\u001b[0mhet\u001b[0m\u001b[0;34m,\u001b[0m\u001b[0;36m50.\u001b[0m\u001b[0;34m/\u001b[0m\u001b[0;36m9000.\u001b[0m\u001b[0;34m)\u001b[0m \u001b[0;31m# transient\u001b[0m\u001b[0;34m\u001b[0m\u001b[0m\n",
      "\u001b[0;31mNameError\u001b[0m: name 'phi' is not defined"
     ]
    }
   ],
   "source": [
    "img = np.zeros((2,discr,discr))  #  0-dx, 1-dy\n",
    "st  = np.random.RandomState(123)\n",
    "\n",
    "\n",
    "arrow_time = 0.005\n",
    "\n",
    "x_init = np.logspace(np.log10(x_0),np.log10(x_E),discr)\n",
    "z_init = np.logspace(np.log10(z_0),np.log10(z_E),discr)\n",
    "w_zero = np.zeros(N**2)\n",
    "#phi = 1e-3 *np.ones(N)#5.3e-4* np.ones(N)\n",
    "het = np.linspace(1.,1.1,N)\n",
    "\n",
    "\n",
    "\n",
    "\n",
    "lc = []\n",
    "x = np.ones(N)*x_0\n",
    "z = np.ones(N)*z_0\n",
    "zbke_extension.zbke_network(x,z,w_zero,phi,het,9.) # transient\n",
    "for i in range(9000):\n",
    "    zbke_extension.zbke_network(x,z,w_zero,phi,het,50./9000.) # transient\n",
    "    lc.append( np.float32( [x[0].copy(),z[0].copy()] ) )\n",
    "\n",
    "    \n",
    "\n",
    "for i in range(discr):\n",
    "    for j in range(discr):\n",
    "\n",
    "        x = np.ones(N)*x_init[j]\n",
    "        z = np.ones(N)*z_init[i]\n",
    "        \n",
    "        zbke_extension.zbke_network(x,z,w_zero,phi,het,arrow_time)\n",
    "\n",
    "        img[:,i,j] = x[0] - x_init[j] , z[0] - z_init[i]\n",
    "        \n",
    "    print i,\n",
    "img = np.nan_to_num( img )"
   ]
  },
  {
   "cell_type": "code",
   "execution_count": 6,
   "metadata": {},
   "outputs": [
    {
     "ename": "NameError",
     "evalue": "name 'zbke_extension' is not defined",
     "output_type": "error",
     "traceback": [
      "\u001b[0;31m---------------------------------------------------------------------------\u001b[0m",
      "\u001b[0;31mNameError\u001b[0m                                 Traceback (most recent call last)",
      "\u001b[0;32m<ipython-input-6-932757ac7718>\u001b[0m in \u001b[0;36m<module>\u001b[0;34m()\u001b[0m\n\u001b[1;32m     12\u001b[0m \u001b[0;34m\u001b[0m\u001b[0m\n\u001b[1;32m     13\u001b[0m         \u001b[0mzt\u001b[0m \u001b[0;34m=\u001b[0m \u001b[0mzlog\u001b[0m\u001b[0;34m[\u001b[0m\u001b[0mj\u001b[0m\u001b[0;34m]\u001b[0m\u001b[0;34m\u001b[0m\u001b[0m\n\u001b[0;32m---> 14\u001b[0;31m         \u001b[0mnx\u001b[0m\u001b[0;34m,\u001b[0m\u001b[0mnz\u001b[0m \u001b[0;34m=\u001b[0m \u001b[0mzbke_extension\u001b[0m\u001b[0;34m.\u001b[0m\u001b[0mzbke_nullclines\u001b[0m\u001b[0;34m(\u001b[0m \u001b[0mxt\u001b[0m\u001b[0;34m,\u001b[0m\u001b[0mzt\u001b[0m\u001b[0;34m,\u001b[0m\u001b[0mphi\u001b[0m\u001b[0;34m[\u001b[0m\u001b[0;36m0\u001b[0m\u001b[0;34m]\u001b[0m\u001b[0;34m,\u001b[0m\u001b[0mhet\u001b[0m\u001b[0;34m[\u001b[0m\u001b[0;36m0\u001b[0m\u001b[0;34m]\u001b[0m \u001b[0;34m)\u001b[0m\u001b[0;34m\u001b[0m\u001b[0m\n\u001b[0m\u001b[1;32m     15\u001b[0m \u001b[0;34m\u001b[0m\u001b[0m\n\u001b[1;32m     16\u001b[0m         \u001b[0mb1\u001b[0m\u001b[0;34m,\u001b[0m\u001b[0mb2\u001b[0m \u001b[0;34m=\u001b[0m \u001b[0mabs\u001b[0m\u001b[0;34m(\u001b[0m\u001b[0mnz\u001b[0m\u001b[0;34m)\u001b[0m \u001b[0;34m<\u001b[0m \u001b[0mdz_thresh\u001b[0m  \u001b[0;34m,\u001b[0m \u001b[0mabs\u001b[0m\u001b[0;34m(\u001b[0m\u001b[0mnx\u001b[0m\u001b[0;34m)\u001b[0m \u001b[0;34m<\u001b[0m \u001b[0mdx_thresh\u001b[0m\u001b[0;34m\u001b[0m\u001b[0m\n",
      "\u001b[0;31mNameError\u001b[0m: name 'zbke_extension' is not defined"
     ]
    }
   ],
   "source": [
    "### search nullcline\n",
    "dx_thresh , dz_thresh = .0003 , .00002\n",
    "nullcline_discr = 3900\n",
    "nc_x,nc_z = [[],[]],[[],[]]\n",
    "fx =0.,0.\n",
    "xlog = np.logspace(np.log10(x_0),np.log10(x_E),nullcline_discr)\n",
    "zlog = np.logspace(np.log10(z_0),np.log10(z_E),nullcline_discr)\n",
    "for i in range(nullcline_discr):\n",
    "    #break\n",
    "    xt = xlog[i]\n",
    "    for j in range(nullcline_discr):\n",
    "\n",
    "        zt = zlog[j]\n",
    "        nx,nz = zbke_extension.zbke_nullclines( xt,zt,phi[0],het[0] )\n",
    "        \n",
    "        b1,b2 = abs(nz) < dz_thresh  , abs(nx) < dx_thresh\n",
    "        if b1 and b2:\n",
    "            fx= np.linspace(x_0,x_E,nullcline_discr)[i],np.linspace(z_0,z_E,nullcline_discr)[j]\n",
    "        \n",
    "        if b2:\n",
    "            nc_x[0].append( trafo(xt,x_0,x_E,1000) )\n",
    "            nc_x[1].append( trafo(zt,z_0,z_E,1000) )\n",
    "            \n",
    "        if b1:\n",
    "            nc_z[0].append( trafo(xt,x_0,x_E,1000) )\n",
    "            nc_z[1].append( trafo(zt,z_0,z_E,1000) )\n",
    "    #print i,\n",
    "    \n",
    "from scipy import interpolate\n",
    "f_nx = interpolate.interp1d( nc_x[0], nc_x[1] )\n",
    "f_nz = interpolate.interp1d( nc_z[0], nc_z[1] )"
   ]
  },
  {
   "cell_type": "code",
   "execution_count": null,
   "metadata": {},
   "outputs": [],
   "source": [
    "def trafo(tmp,tmp_0,tmp_E,discr):\n",
    "    tt = np.log10(tmp_0)\n",
    "    try: idx =  int( (np.log10(tmp)-tt)/(np.log10(tmp_E)-tt)*discr ) # index in logspace\n",
    "    except: idx=1\n",
    "    return tmp_0 + float(idx)/discr *(tmp_E-tmp_0)\n",
    "\n",
    "\n",
    "plt.figure( figsize=(13,10))\n",
    "    \n",
    "    \n",
    "    \n",
    "    \n",
    "### arrows of direction field\n",
    "arrow_len = 0.5  # [0,1] to the square of the next (in cartesian)\n",
    "arrow_sparser = 8\n",
    "arrows_0 = np.zeros((2,discr/arrow_sparser+1,discr/arrow_sparser+1)) # 0-x ,  1-y\n",
    "\n",
    "\n",
    "dx_scale,dz_scale  =  arrow_len*(x_E-x_0)/(discr/arrow_sparser) , arrow_len*(z_E-z_0)/(discr/arrow_sparser)\n",
    "headlen = 0.5*np.sqrt( dx_scale**2. + dz_scale**2. )\n",
    "headwidth = .6*headlen\n",
    "\n",
    "dz_max = 0.\n",
    "for i in range(discr/arrow_sparser+1):\n",
    "    for j in range(discr/arrow_sparser+1):\n",
    "        ix,jx = i*arrow_sparser,j*arrow_sparser\n",
    "        if ix>= discr : ix = discr-1\n",
    "        if jx>= discr : jx = discr-1\n",
    "        dz = abs( trafo( z_init[ix] + img[1,ix,jx] , z_0,z_E,1000 ) )\n",
    "        if dz>dz_max : dz_max = dz\n",
    "\n",
    "for i in range(discr/arrow_sparser+1):\n",
    "    for j in range(discr/arrow_sparser+1):\n",
    "\n",
    "        ix,jx = i*arrow_sparser,j*arrow_sparser\n",
    "        \n",
    "        if ix>= discr : ix = discr-1\n",
    "        if jx>= discr : jx = discr-1\n",
    "        \n",
    "        arrows_0[:,i,j] = trafo(x_init[jx],x_0,x_E,1000) , trafo(z_init[ix],z_0,z_E,1000)\n",
    "\n",
    "        tan_alpha = img[1,ix,jx] / img[0,ix,jx]\n",
    "        \n",
    "        if img[0,ix,jx] > 0 : dx =  dx_scale\n",
    "        else :                dx = -dx_scale\n",
    "        \n",
    "        if img[1,ix,jx] > 0 : dz =   dz_scale\n",
    "        else :                dz = - dz_scale\n",
    "        \n",
    "        dz *=  abs(trafo( z_init[ix] + img[1,ix,jx] , z_0,z_E,1000 )) / dz_max\n",
    "\n",
    "        plt.arrow( arrows_0[0,i,j],arrows_0[1,i,j] , dx,dz, length_includes_head=True,\n",
    "                   head_width=headwidth, head_length=headlen, fc='k')\n",
    "        \n",
    "        \n",
    "\n",
    "        \n",
    "        \n",
    "\n",
    "### plot nullclines\n",
    "#plt.scatter( nc_x[0], nc_x[1],s=60,color='cyan')\n",
    "#plt.scatter( nc_z[0], nc_z[1],s=60,lw=0,color='green')\n",
    "#plt.plot( [-1,-1],[-1,-1], color='cyan',label='Nullcline $x$',lw=3.)\n",
    "#plt.plot( [-1,-1],[-1,-1], color='green',label='Nullcline $z$',lw=3.)\n",
    "xinterp = np.linspace( np.min(nc_x[0] ) , np.max(nc_x[0]), 100) \n",
    "plt.plot( xinterp, f_nx( xinterp ) ,color='cyan',label='Nullcline $x$',lw=5.)\n",
    "xinterp = np.linspace( np.min(nc_z[0] ) , np.max(nc_z[0]), 100)\n",
    "plt.plot( xinterp, f_nz( xinterp ) ,color='green',label='Nullcline $z$',lw=5.)\n",
    "\n",
    "\n",
    "\n",
    "\n",
    "# plot limit cycle\n",
    "lc = np.array(lc)\n",
    "lc_trafo = lc.copy()\n",
    "for i in range(len(lc)):\n",
    "    lc_trafo[i,0] = trafo( lc_trafo[i,0] , x_0,x_E,1000)\n",
    "    lc_trafo[i,1] = trafo( lc_trafo[i,1] , z_0,z_E,1000)\n",
    "plt.plot( lc_trafo[:,0], lc_trafo[:,1] , lw=3.,color='r', label='Limit cycle')\n",
    "\n",
    "plt.xlim(x_0,x_E)\n",
    "plt.ylim(z_0,z_E)\n",
    "\n",
    "\n",
    "\n",
    "\n",
    "### plot flow magnitude\n",
    "from matplotlib.colors import LogNorm\n",
    "magnitude = np.sqrt( (img[0]/arrow_time)**2. + (img[1]/arrow_time)**2. )[::-1]\n",
    "plt.imshow(  magnitude,extent=[x_0,x_E,z_0,z_E],aspect='auto',interpolation='bilinear',norm=LogNorm())\n",
    "\n",
    "\n",
    "### colorbar\n",
    "pb = plt.colorbar( ticks=[1e-4,1e-3,1e-2,1e-1,1e0,1e1] )\n",
    "pb.set_label('$M_F$',fontsize=25)\n",
    "pb.ax.tick_params('y',labelsize=25)\n",
    "\n",
    "\n",
    "\n",
    "\n",
    "### tick labels\n",
    "axn = 4\n",
    "xaxis = np.linspace(x_0,x_E,axn)\n",
    "plt.xticks( xaxis ,  [ \"%1.1e\"%(np.logspace(np.log10(x_0),np.log10(x_E),axn)[xx]) for xx in range(axn) ]  )\n",
    "zaxis = np.linspace(z_0,z_E,axn)\n",
    "plt.yticks( zaxis ,  [ \"%1.1e\"%(np.logspace(np.log10(z_0),np.log10(z_E),axn)[zz]) for zz in range(axn) ]  )\n",
    "\n",
    "\n",
    "\n",
    "### TODO xlabels in zehnerpotenzen\n",
    "### plotting fixed point\n",
    "plt.scatter(  fx[0],fx[1],s= 150,color='white',linewidth=3,edgecolor='black',label='Fixed point',zorder=5)\n",
    "\n",
    "\n",
    "\n",
    "### legend\n",
    "plt.xlabel('$x$',fontsize=25)\n",
    "plt.ylabel('$z$',fontsize=25)\n",
    "plt.tick_params('both',labelsize=23)\n",
    "leg=plt.legend(fontsize=20,loc='lower right')\n",
    "leg.get_frame().set_alpha(0.75)\n",
    "plt.grid(alpha=.5)\n",
    "plt.show()"
   ]
  }
 ],
 "metadata": {
  "kernelspec": {
   "display_name": "Python 2",
   "language": "python",
   "name": "python2"
  },
  "language_info": {
   "codemirror_mode": {
    "name": "ipython",
    "version": 2
   },
   "file_extension": ".py",
   "mimetype": "text/x-python",
   "name": "python",
   "nbconvert_exporter": "python",
   "pygments_lexer": "ipython2",
   "version": "2.7.12"
  }
 },
 "nbformat": 4,
 "nbformat_minor": 2
}
